{
  "nbformat": 4,
  "nbformat_minor": 0,
  "metadata": {
    "colab": {
      "name": "pagerank UU fix.ipynb",
      "provenance": [],
      "collapsed_sections": [],
      "include_colab_link": true
    },
    "kernelspec": {
      "name": "python3",
      "display_name": "Python 3"
    }
  },
  "cells": [
    {
      "cell_type": "markdown",
      "metadata": {
        "id": "view-in-github",
        "colab_type": "text"
      },
      "source": [
        "<a href=\"https://colab.research.google.com/github/sidiqekob90/jejaringsosial/blob/master/pagerank_UU_fix.ipynb\" target=\"_parent\"><img src=\"https://colab.research.google.com/assets/colab-badge.svg\" alt=\"Open In Colab\"/></a>"
      ]
    },
    {
      "cell_type": "code",
      "metadata": {
        "id": "UR046YUGcJWe",
        "colab_type": "code",
        "outputId": "b085a9ca-4fc7-4828-ab58-75d68e9e2927",
        "colab": {
          "base_uri": "https://localhost:8080/",
          "height": 301
        }
      },
      "source": [
        "import networkx as nx\n",
        "import matplotlib.pyplot as plt\n",
        "#Load the drive helper and mount\n",
        "from google.colab import drive\n",
        "\n",
        "#this will prompt for authorization.\n",
        "drive.mount('/content/drive')\n",
        "\n",
        "\n",
        "def main():\n",
        "\tG = nx.read_edgelist('/content/drive/My Drive/Colab Notebooks/hierarki UU fix.txt', create_using=nx.DiGraph())\n",
        "  \n",
        "\tdeg = dict(G.in_degree())  #Returns a dictionay, with key as nodes and indegrees as values.\n",
        "\tpr = nx.pagerank(G)\n",
        "\tpr_values = []\n",
        "\tfor i in deg.keys():\n",
        "\t\tpr_values.append(pr[i])\n",
        "\n",
        "\tplt.plot(deg.values(), pr_values, 'ro', markersize = 3)\n",
        "\tplt.xlabel('Indegree value of the nodes')\n",
        "\tplt.ylabel('PageRank value of the nodes')\n",
        "\tplt.show()\n",
        "main()"
      ],
      "execution_count": 14,
      "outputs": [
        {
          "output_type": "stream",
          "text": [
            "Drive already mounted at /content/drive; to attempt to forcibly remount, call drive.mount(\"/content/drive\", force_remount=True).\n"
          ],
          "name": "stdout"
        },
        {
          "output_type": "display_data",
          "data": {
            "image/png": "[encoded data removed]",
            "text/plain": [
              "<Figure size 432x288 with 1 Axes>"
            ]
          },
          "metadata": {
            "tags": []
          }
        }
      ]
    },
    {
      "cell_type": "code",
      "metadata": {
        "id": "X9PCCmzWgwVc",
        "colab_type": "code",
        "colab": {
          "base_uri": "https://localhost:8080/",
          "height": 34
        },
        "outputId": "6a2cf1e0-08bc-4ed1-b2b8-88b19e45019c"
      },
      "source": [
        "from google.colab import drive\n",
        "drive.mount('/content/drive')"
      ],
      "execution_count": 9,
      "outputs": [
        {
          "output_type": "stream",
          "text": [
            "Drive already mounted at /content/drive; to attempt to forcibly remount, call drive.mount(\"/content/drive\", force_remount=True).\n"
          ],
          "name": "stdout"
        }
      ]
    }
  ]
}